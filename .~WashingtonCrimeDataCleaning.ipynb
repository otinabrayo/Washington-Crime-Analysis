{
 "cells": [
  {
   "cell_type": "code",
   "execution_count": 1,
   "id": "cc2e7cdf-24f0-46a3-b747-9adb66c6998d",
   "metadata": {},
   "outputs": [],
   "source": [
    "%matplotlib inline \n",
    "import pandas as pd\n",
    "import numpy as np\n",
    "import matplotlib.pyplot as plt"
   ]
  },
  {
   "cell_type": "code",
   "execution_count": 2,
   "id": "228e2327-5fa2-4d97-a5e7-9b71b19d5f7e",
   "metadata": {},
   "outputs": [],
   "source": [
    "crimedata = pd.read_csv(\"WashingtonCrime.csv\")"
   ]
  },
  {
   "cell_type": "code",
   "execution_count": 3,
   "id": "a162b6e1-4e58-4a1f-8552-bf802a9dbb63",
   "metadata": {},
   "outputs": [
    {
     "data": {
      "text/html": [
       "<div>\n",
       "<style scoped>\n",
       "    .dataframe tbody tr th:only-of-type {\n",
       "        vertical-align: middle;\n",
       "    }\n",
       "\n",
       "    .dataframe tbody tr th {\n",
       "        vertical-align: top;\n",
       "    }\n",
       "\n",
       "    .dataframe thead th {\n",
       "        text-align: right;\n",
       "    }\n",
       "</style>\n",
       "<table border=\"1\" class=\"dataframe\">\n",
       "  <thead>\n",
       "    <tr style=\"text-align: right;\">\n",
       "      <th></th>\n",
       "      <th>ANC</th>\n",
       "      <th>LATITUDE</th>\n",
       "      <th>BLOCK</th>\n",
       "      <th>offensegroup</th>\n",
       "      <th>location</th>\n",
       "      <th>sector</th>\n",
       "      <th>YBLOCK</th>\n",
       "      <th>METHOD</th>\n",
       "      <th>CCN</th>\n",
       "      <th>END_DATE</th>\n",
       "      <th>...</th>\n",
       "      <th>DISTRICT</th>\n",
       "      <th>XBLOCK</th>\n",
       "      <th>YEAR</th>\n",
       "      <th>REPORT_DAT</th>\n",
       "      <th>ucr-rank</th>\n",
       "      <th>offensekey</th>\n",
       "      <th>START_DATE</th>\n",
       "      <th>VOTING_PRECINCT</th>\n",
       "      <th>OFFENSE</th>\n",
       "      <th>BLOCK_GROUP</th>\n",
       "    </tr>\n",
       "  </thead>\n",
       "  <tbody>\n",
       "    <tr>\n",
       "      <th>0</th>\n",
       "      <td>6E</td>\n",
       "      <td>38.903732</td>\n",
       "      <td>100 - 199 block of l street ne</td>\n",
       "      <td>property</td>\n",
       "      <td>38.9037316022,-77.0047283051</td>\n",
       "      <td>5D1</td>\n",
       "      <td>137319.5500</td>\n",
       "      <td>others</td>\n",
       "      <td>25002077</td>\n",
       "      <td>NaN</td>\n",
       "      <td>...</td>\n",
       "      <td>5.0</td>\n",
       "      <td>399589.8700</td>\n",
       "      <td>2025</td>\n",
       "      <td>1/4/2025, 10:13:33 PM</td>\n",
       "      <td>6</td>\n",
       "      <td>property|theft/other</td>\n",
       "      <td>1/4/2025, 9:24:00 PM</td>\n",
       "      <td>precinct 144</td>\n",
       "      <td>theft/other</td>\n",
       "      <td>010603 3</td>\n",
       "    </tr>\n",
       "    <tr>\n",
       "      <th>1</th>\n",
       "      <td>2C</td>\n",
       "      <td>38.903743</td>\n",
       "      <td>18th street nw and l street nw</td>\n",
       "      <td>property</td>\n",
       "      <td>38.9037432394,-77.0416730027</td>\n",
       "      <td>2D3</td>\n",
       "      <td>137321.6563</td>\n",
       "      <td>others</td>\n",
       "      <td>25008226</td>\n",
       "      <td>NaN</td>\n",
       "      <td>...</td>\n",
       "      <td>2.0</td>\n",
       "      <td>396385.3125</td>\n",
       "      <td>2025</td>\n",
       "      <td>1/18/2025, 4:03:46 AM</td>\n",
       "      <td>7</td>\n",
       "      <td>property|theft f/auto</td>\n",
       "      <td>1/18/2025, 3:15:00 AM</td>\n",
       "      <td>precinct 17</td>\n",
       "      <td>theft f/auto</td>\n",
       "      <td>010700 1</td>\n",
       "    </tr>\n",
       "    <tr>\n",
       "      <th>2</th>\n",
       "      <td>1B</td>\n",
       "      <td>38.917236</td>\n",
       "      <td>2000 - 2099 block of 8th street nw</td>\n",
       "      <td>property</td>\n",
       "      <td>38.917236462,-77.0229457261</td>\n",
       "      <td>3D2</td>\n",
       "      <td>138818.9400</td>\n",
       "      <td>others</td>\n",
       "      <td>25013256</td>\n",
       "      <td>1/28/2025, 12:50:00 PM</td>\n",
       "      <td>...</td>\n",
       "      <td>3.0</td>\n",
       "      <td>398010.0800</td>\n",
       "      <td>2025</td>\n",
       "      <td>1/28/2025, 1:14:31 PM</td>\n",
       "      <td>6</td>\n",
       "      <td>property|theft/other</td>\n",
       "      <td>1/28/2025, 12:21:00 PM</td>\n",
       "      <td>precinct 37</td>\n",
       "      <td>theft/other</td>\n",
       "      <td>003500 3</td>\n",
       "    </tr>\n",
       "    <tr>\n",
       "      <th>3</th>\n",
       "      <td>5D</td>\n",
       "      <td>38.909405</td>\n",
       "      <td>1300 - 1399 block of 5th street ne</td>\n",
       "      <td>property</td>\n",
       "      <td>38.9094049494,-76.9975459006</td>\n",
       "      <td>5D1</td>\n",
       "      <td>137949.3300</td>\n",
       "      <td>others</td>\n",
       "      <td>25001526</td>\n",
       "      <td>1/3/2025, 9:14:00 PM</td>\n",
       "      <td>...</td>\n",
       "      <td>5.0</td>\n",
       "      <td>400212.8500</td>\n",
       "      <td>2025</td>\n",
       "      <td>1/3/2025, 9:14:02 PM</td>\n",
       "      <td>8</td>\n",
       "      <td>property|motor vehicle theft</td>\n",
       "      <td>1/3/2025, 8:40:00 PM</td>\n",
       "      <td>precinct 76</td>\n",
       "      <td>motor vehicle theft</td>\n",
       "      <td>008803 2</td>\n",
       "    </tr>\n",
       "    <tr>\n",
       "      <th>4</th>\n",
       "      <td>1D</td>\n",
       "      <td>38.930801</td>\n",
       "      <td>1600 - 1665 block of lamont street nw</td>\n",
       "      <td>property</td>\n",
       "      <td>38.9308014266,-77.0373827045</td>\n",
       "      <td>3D1</td>\n",
       "      <td>140325.1800</td>\n",
       "      <td>others</td>\n",
       "      <td>25002498</td>\n",
       "      <td>1/3/2025, 10:00:00 AM</td>\n",
       "      <td>...</td>\n",
       "      <td>3.0</td>\n",
       "      <td>396758.6800</td>\n",
       "      <td>2025</td>\n",
       "      <td>1/6/2025, 12:50:14 AM</td>\n",
       "      <td>6</td>\n",
       "      <td>property|theft/other</td>\n",
       "      <td>1/2/2025, 10:00:00 PM</td>\n",
       "      <td>precinct 40</td>\n",
       "      <td>theft/other</td>\n",
       "      <td>002702 1</td>\n",
       "    </tr>\n",
       "  </tbody>\n",
       "</table>\n",
       "<p>5 rows × 29 columns</p>\n",
       "</div>"
      ],
      "text/plain": [
       "  ANC   LATITUDE                                  BLOCK offensegroup  \\\n",
       "0  6E  38.903732         100 - 199 block of l street ne     property   \n",
       "1  2C  38.903743         18th street nw and l street nw     property   \n",
       "2  1B  38.917236     2000 - 2099 block of 8th street nw     property   \n",
       "3  5D  38.909405     1300 - 1399 block of 5th street ne     property   \n",
       "4  1D  38.930801  1600 - 1665 block of lamont street nw     property   \n",
       "\n",
       "                       location sector       YBLOCK  METHOD       CCN  \\\n",
       "0  38.9037316022,-77.0047283051    5D1  137319.5500  others  25002077   \n",
       "1  38.9037432394,-77.0416730027    2D3  137321.6563  others  25008226   \n",
       "2   38.917236462,-77.0229457261    3D2  138818.9400  others  25013256   \n",
       "3  38.9094049494,-76.9975459006    5D1  137949.3300  others  25001526   \n",
       "4  38.9308014266,-77.0373827045    3D1  140325.1800  others  25002498   \n",
       "\n",
       "                 END_DATE  ...  DISTRICT       XBLOCK  YEAR  \\\n",
       "0                     NaN  ...       5.0  399589.8700  2025   \n",
       "1                     NaN  ...       2.0  396385.3125  2025   \n",
       "2  1/28/2025, 12:50:00 PM  ...       3.0  398010.0800  2025   \n",
       "3    1/3/2025, 9:14:00 PM  ...       5.0  400212.8500  2025   \n",
       "4   1/3/2025, 10:00:00 AM  ...       3.0  396758.6800  2025   \n",
       "\n",
       "              REPORT_DAT  ucr-rank                    offensekey  \\\n",
       "0  1/4/2025, 10:13:33 PM         6          property|theft/other   \n",
       "1  1/18/2025, 4:03:46 AM         7         property|theft f/auto   \n",
       "2  1/28/2025, 1:14:31 PM         6          property|theft/other   \n",
       "3   1/3/2025, 9:14:02 PM         8  property|motor vehicle theft   \n",
       "4  1/6/2025, 12:50:14 AM         6          property|theft/other   \n",
       "\n",
       "               START_DATE VOTING_PRECINCT              OFFENSE  BLOCK_GROUP  \n",
       "0    1/4/2025, 9:24:00 PM    precinct 144          theft/other     010603 3  \n",
       "1   1/18/2025, 3:15:00 AM     precinct 17         theft f/auto     010700 1  \n",
       "2  1/28/2025, 12:21:00 PM     precinct 37          theft/other     003500 3  \n",
       "3    1/3/2025, 8:40:00 PM     precinct 76  motor vehicle theft     008803 2  \n",
       "4   1/2/2025, 10:00:00 PM     precinct 40          theft/other     002702 1  \n",
       "\n",
       "[5 rows x 29 columns]"
      ]
     },
     "execution_count": 3,
     "metadata": {},
     "output_type": "execute_result"
    }
   ],
   "source": [
    "crimedata.head()"
   ]
  },
  {
   "cell_type": "code",
   "execution_count": 4,
   "id": "1f5d754a-46f0-4090-8bba-ba64d719857a",
   "metadata": {},
   "outputs": [
    {
     "data": {
      "text/plain": [
       "Index(['ANC', 'LATITUDE', 'BLOCK', 'offensegroup', 'location', 'sector',\n",
       "       'YBLOCK', 'METHOD', 'CCN', 'END_DATE', 'LONGITUDE', 'offense-text',\n",
       "       'NEIGHBORHOOD_CLUSTER', 'SHIFT', 'PSA', 'CENSUS_TRACT', 'WARD', 'BID',\n",
       "       'OCTO_RECORD_ID', 'DISTRICT', 'XBLOCK', 'YEAR', 'REPORT_DAT',\n",
       "       'ucr-rank', 'offensekey', 'START_DATE', 'VOTING_PRECINCT', 'OFFENSE',\n",
       "       'BLOCK_GROUP'],\n",
       "      dtype='object')"
      ]
     },
     "execution_count": 4,
     "metadata": {},
     "output_type": "execute_result"
    }
   ],
   "source": [
    "crimedata.columns"
   ]
  },
  {
   "cell_type": "code",
   "execution_count": 13,
   "id": "4e6fcbc9-35f3-45f8-8a47-5bf80a3ad7cc",
   "metadata": {},
   "outputs": [
    {
     "data": {
      "text/plain": [
       "LATITUDE                0\n",
       "BLOCK                   0\n",
       "offensegroup            0\n",
       "location                0\n",
       "sector                  0\n",
       "METHOD                  0\n",
       "CCN                     0\n",
       "END_DATE                0\n",
       "LONGITUDE               0\n",
       "NEIGHBORHOOD_CLUSTER    0\n",
       "SHIFT                   0\n",
       "PSA                     0\n",
       "CENSUS_TRACT            0\n",
       "WARD                    0\n",
       "BID                     0\n",
       "DISTRICT                0\n",
       "YEAR                    0\n",
       "REPORT_DAT              0\n",
       "ucr-rank                0\n",
       "offensekey              0\n",
       "START_DATE              0\n",
       "VOTING_PRECINCT         0\n",
       "OFFENSE                 0\n",
       "dtype: int64"
      ]
     },
     "execution_count": 13,
     "metadata": {},
     "output_type": "execute_result"
    }
   ],
   "source": [
    "crimedata.isnull().sum()"
   ]
  },
  {
   "cell_type": "code",
   "execution_count": 6,
   "id": "3627d90b-33aa-4254-b52c-f1cc36c2bdb0",
   "metadata": {},
   "outputs": [],
   "source": [
    "crimedata = crimedata.drop(columns=['OCTO_RECORD_ID', 'offense-text', 'ANC', 'YBLOCK', 'XBLOCK', 'BLOCK_GROUP', ])"
   ]
  },
  {
   "cell_type": "code",
   "execution_count": 7,
   "id": "1f612cd0-2a49-4c73-83b3-7815c75242dd",
   "metadata": {},
   "outputs": [],
   "source": [
    "crimedata['WARD'] = crimedata['WARD'].replace(np.nan, 2)"
   ]
  },
  {
   "cell_type": "code",
   "execution_count": 8,
   "id": "6466dac3-ca66-44de-90b7-dcbaf9ec158e",
   "metadata": {},
   "outputs": [],
   "source": [
    "crimedata.dropna(subset=['VOTING_PRECINCT', 'START_DATE', 'CENSUS_TRACT', 'sector'], inplace=True)"
   ]
  },
  {
   "cell_type": "code",
   "execution_count": 14,
   "id": "b2ae9e09-2744-4dcd-9db0-d29fa2dcc1f7",
   "metadata": {},
   "outputs": [],
   "source": [
    "crimedata['BID'] = crimedata['BID'].replace(np.nan, 'Unknown')"
   ]
  },
  {
   "cell_type": "code",
   "execution_count": 10,
   "id": "19e29bb4-b3dc-4a6d-a518-da040f3ba95f",
   "metadata": {},
   "outputs": [],
   "source": [
    "# Replacing missing end dates of the crime with current time indicating the crime did not stop till date\n",
    "from datetime import datetime\n",
    "\n",
    "crimedata['END_DATE'] = crimedata['END_DATE'].fillna(datetime.now())"
   ]
  },
  {
   "cell_type": "code",
   "execution_count": 11,
   "id": "16887e03-03c5-4a77-bd4e-e9f19dc842f4",
   "metadata": {},
   "outputs": [],
   "source": [
    "crimedata['END_DATE'] = pd.to_datetime(crimedata['END_DATE']).dt.strftime('%d-%m-%Y')"
   ]
  },
  {
   "cell_type": "code",
   "execution_count": 12,
   "id": "ad8ad963-d35b-448d-9bba-a814fea02d56",
   "metadata": {},
   "outputs": [
    {
     "name": "stderr",
     "output_type": "stream",
     "text": [
      "C:\\Users\\USER.COM\\AppData\\Local\\Temp\\ipykernel_1908\\1764808202.py:1: UserWarning: Could not infer format, so each element will be parsed individually, falling back to `dateutil`. To ensure parsing is consistent and as-expected, please specify a format.\n",
      "  crimedata['START_DATE'] = pd.to_datetime(crimedata['START_DATE']).dt.strftime('%d-%m-%Y')\n"
     ]
    }
   ],
   "source": [
    "crimedata['START_DATE'] = pd.to_datetime(crimedata['START_DATE']).dt.strftime('%d-%m-%Y')"
   ]
  },
  {
   "cell_type": "code",
   "execution_count": 16,
   "id": "72ce6168-958c-4321-9eb9-c12bbefdd0df",
   "metadata": {},
   "outputs": [],
   "source": [
    "crimedata.columns = crimedata.columns.str.lower()"
   ]
  },
  {
   "cell_type": "code",
   "execution_count": 17,
   "id": "953dc7c0-db3b-45ef-b2f7-70a3e6f2bcb3",
   "metadata": {},
   "outputs": [],
   "source": [
    "crimedata.to_csv('WashingtonCrimeCleaned.csv', index=False)"
   ]
  },
  {
   "cell_type": "code",
   "execution_count": null,
   "id": "050b8603-4dfe-44af-ba8c-242af4df22a8",
   "metadata": {},
   "outputs": [],
   "source": []
  }
 ],
 "metadata": {
  "kernelspec": {
   "display_name": "Python 3 (ipykernel)",
   "language": "python",
   "name": "python3"
  },
  "language_info": {
   "codemirror_mode": {
    "name": "ipython",
    "version": 3
   },
   "file_extension": ".py",
   "mimetype": "text/x-python",
   "name": "python",
   "nbconvert_exporter": "python",
   "pygments_lexer": "ipython3",
   "version": "3.13.2"
  }
 },
 "nbformat": 4,
 "nbformat_minor": 5
}
